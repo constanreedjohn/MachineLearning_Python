{
  "cells": [
    {
      "cell_type": "markdown",
      "metadata": {},
      "source": [
        "# Import lib"
      ]
    },
    {
      "cell_type": "code",
      "execution_count": null,
      "metadata": {
        "colab": {
          "base_uri": "https://localhost:8080/"
        },
        "id": "kwDzu8HwhOXN",
        "outputId": "640c5f28-b03b-46df-8458-56d04ae61f0f"
      },
      "outputs": [
        {
          "name": "stdout",
          "output_type": "stream",
          "text": [
            "Mounted at /content/drive\n"
          ]
        }
      ],
      "source": [
        "import pandas as pd\n",
        "import numpy as np\n",
        "import matplotlib.pyplot as plt\n",
        "import seaborn as sns\n",
        "from google.colab import drive\n",
        "\n",
        "drive.mount('/content/drive')"
      ]
    },
    {
      "cell_type": "markdown",
      "metadata": {},
      "source": [
        "# Get dataset"
      ]
    },
    {
      "cell_type": "code",
      "execution_count": null,
      "metadata": {
        "id": "V-thE22IkI5g"
      },
      "outputs": [],
      "source": [
        "data = pd.read_csv('/content/wecode.csv')"
      ]
    },
    {
      "cell_type": "code",
      "execution_count": null,
      "metadata": {
        "colab": {
          "base_uri": "https://localhost:8080/"
        },
        "id": "6drbz-hPkssd",
        "outputId": "7a21eb9c-014d-4b75-c679-27de1af7911a"
      },
      "outputs": [
        {
          "name": "stdout",
          "output_type": "stream",
          "text": [
            "<class 'pandas.core.frame.DataFrame'>\n",
            "RangeIndex: 23241 entries, 0 to 23240\n",
            "Data columns (total 12 columns):\n",
            " #   Column         Non-Null Count  Dtype  \n",
            "---  ------         --------------  -----  \n",
            " 0   id             23241 non-null  int64  \n",
            " 1   assignment_id  23241 non-null  int64  \n",
            " 2   problem_id     23241 non-null  int64  \n",
            " 3   user_id        23241 non-null  int64  \n",
            " 4   is_final       23241 non-null  int64  \n",
            " 5   status         23241 non-null  object \n",
            " 6   pre_score      23241 non-null  int64  \n",
            " 7   coefficient    23241 non-null  int64  \n",
            " 8   file_name      23241 non-null  object \n",
            " 9   language_id    23240 non-null  float64\n",
            " 10  created_at     23240 non-null  object \n",
            " 11  updated_at     23240 non-null  object \n",
            "dtypes: float64(1), int64(7), object(4)\n",
            "memory usage: 2.1+ MB\n"
          ]
        }
      ],
      "source": [
        "data.info()"
      ]
    },
    {
      "cell_type": "code",
      "execution_count": null,
      "metadata": {
        "colab": {
          "base_uri": "https://localhost:8080/",
          "height": 284
        },
        "id": "eca-G9s0kxRH",
        "outputId": "f7817fee-886c-415a-8009-5fd0b8871ebf"
      },
      "outputs": [
        {
          "data": {
            "text/html": [
              "<div>\n",
              "<style scoped>\n",
              "    .dataframe tbody tr th:only-of-type {\n",
              "        vertical-align: middle;\n",
              "    }\n",
              "\n",
              "    .dataframe tbody tr th {\n",
              "        vertical-align: top;\n",
              "    }\n",
              "\n",
              "    .dataframe thead th {\n",
              "        text-align: right;\n",
              "    }\n",
              "</style>\n",
              "<table border=\"1\" class=\"dataframe\">\n",
              "  <thead>\n",
              "    <tr style=\"text-align: right;\">\n",
              "      <th></th>\n",
              "      <th>id</th>\n",
              "      <th>assignment_id</th>\n",
              "      <th>problem_id</th>\n",
              "      <th>user_id</th>\n",
              "      <th>is_final</th>\n",
              "      <th>pre_score</th>\n",
              "      <th>coefficient</th>\n",
              "      <th>language_id</th>\n",
              "    </tr>\n",
              "  </thead>\n",
              "  <tbody>\n",
              "    <tr>\n",
              "      <th>count</th>\n",
              "      <td>23241.000000</td>\n",
              "      <td>23241.000000</td>\n",
              "      <td>23241.000000</td>\n",
              "      <td>23241.000000</td>\n",
              "      <td>23241.000000</td>\n",
              "      <td>23241.000000</td>\n",
              "      <td>23241.000000</td>\n",
              "      <td>23240.000000</td>\n",
              "    </tr>\n",
              "    <tr>\n",
              "      <th>mean</th>\n",
              "      <td>11660.710555</td>\n",
              "      <td>20.636418</td>\n",
              "      <td>30.983693</td>\n",
              "      <td>907.750140</td>\n",
              "      <td>0.317026</td>\n",
              "      <td>4123.090487</td>\n",
              "      <td>99.754744</td>\n",
              "      <td>2.000688</td>\n",
              "    </tr>\n",
              "    <tr>\n",
              "      <th>std</th>\n",
              "      <td>6743.869294</td>\n",
              "      <td>15.438685</td>\n",
              "      <td>37.023294</td>\n",
              "      <td>520.025539</td>\n",
              "      <td>0.465328</td>\n",
              "      <td>4631.934621</td>\n",
              "      <td>2.668117</td>\n",
              "      <td>0.037102</td>\n",
              "    </tr>\n",
              "    <tr>\n",
              "      <th>min</th>\n",
              "      <td>4.000000</td>\n",
              "      <td>0.000000</td>\n",
              "      <td>1.000000</td>\n",
              "      <td>1.000000</td>\n",
              "      <td>0.000000</td>\n",
              "      <td>0.000000</td>\n",
              "      <td>70.000000</td>\n",
              "      <td>2.000000</td>\n",
              "    </tr>\n",
              "    <tr>\n",
              "      <th>25%</th>\n",
              "      <td>5814.000000</td>\n",
              "      <td>7.000000</td>\n",
              "      <td>6.000000</td>\n",
              "      <td>458.000000</td>\n",
              "      <td>0.000000</td>\n",
              "      <td>0.000000</td>\n",
              "      <td>100.000000</td>\n",
              "      <td>2.000000</td>\n",
              "    </tr>\n",
              "    <tr>\n",
              "      <th>50%</th>\n",
              "      <td>11641.000000</td>\n",
              "      <td>19.000000</td>\n",
              "      <td>12.000000</td>\n",
              "      <td>930.000000</td>\n",
              "      <td>0.000000</td>\n",
              "      <td>0.000000</td>\n",
              "      <td>100.000000</td>\n",
              "      <td>2.000000</td>\n",
              "    </tr>\n",
              "    <tr>\n",
              "      <th>75%</th>\n",
              "      <td>17516.000000</td>\n",
              "      <td>31.000000</td>\n",
              "      <td>42.000000</td>\n",
              "      <td>1395.000000</td>\n",
              "      <td>1.000000</td>\n",
              "      <td>10000.000000</td>\n",
              "      <td>100.000000</td>\n",
              "      <td>2.000000</td>\n",
              "    </tr>\n",
              "    <tr>\n",
              "      <th>max</th>\n",
              "      <td>23327.000000</td>\n",
              "      <td>52.000000</td>\n",
              "      <td>160.000000</td>\n",
              "      <td>1767.000000</td>\n",
              "      <td>1.000000</td>\n",
              "      <td>10000.000000</td>\n",
              "      <td>100.000000</td>\n",
              "      <td>4.000000</td>\n",
              "    </tr>\n",
              "  </tbody>\n",
              "</table>\n",
              "</div>"
            ],
            "text/plain": [
              "                 id  assignment_id  ...   coefficient   language_id\n",
              "count  23241.000000   23241.000000  ...  23241.000000  23240.000000\n",
              "mean   11660.710555      20.636418  ...     99.754744      2.000688\n",
              "std     6743.869294      15.438685  ...      2.668117      0.037102\n",
              "min        4.000000       0.000000  ...     70.000000      2.000000\n",
              "25%     5814.000000       7.000000  ...    100.000000      2.000000\n",
              "50%    11641.000000      19.000000  ...    100.000000      2.000000\n",
              "75%    17516.000000      31.000000  ...    100.000000      2.000000\n",
              "max    23327.000000      52.000000  ...    100.000000      4.000000\n",
              "\n",
              "[8 rows x 8 columns]"
            ]
          },
          "execution_count": 4,
          "metadata": {
            "tags": []
          },
          "output_type": "execute_result"
        }
      ],
      "source": [
        "data.describe()"
      ]
    },
    {
      "cell_type": "code",
      "execution_count": null,
      "metadata": {
        "colab": {
          "base_uri": "https://localhost:8080/",
          "height": 279
        },
        "id": "Uj6V6U_WlOLy",
        "outputId": "72cba3fa-2c85-4739-9377-9d15f2f25eea"
      },
      "outputs": [
        {
          "data": {
            "text/html": [
              "<div>\n",
              "<style scoped>\n",
              "    .dataframe tbody tr th:only-of-type {\n",
              "        vertical-align: middle;\n",
              "    }\n",
              "\n",
              "    .dataframe tbody tr th {\n",
              "        vertical-align: top;\n",
              "    }\n",
              "\n",
              "    .dataframe thead th {\n",
              "        text-align: right;\n",
              "    }\n",
              "</style>\n",
              "<table border=\"1\" class=\"dataframe\">\n",
              "  <thead>\n",
              "    <tr style=\"text-align: right;\">\n",
              "      <th></th>\n",
              "      <th>id</th>\n",
              "      <th>assignment_id</th>\n",
              "      <th>problem_id</th>\n",
              "      <th>user_id</th>\n",
              "      <th>is_final</th>\n",
              "      <th>status</th>\n",
              "      <th>pre_score</th>\n",
              "      <th>coefficient</th>\n",
              "      <th>file_name</th>\n",
              "      <th>language_id</th>\n",
              "      <th>created_at</th>\n",
              "      <th>updated_at</th>\n",
              "    </tr>\n",
              "  </thead>\n",
              "  <tbody>\n",
              "    <tr>\n",
              "      <th>0</th>\n",
              "      <td>4</td>\n",
              "      <td>0</td>\n",
              "      <td>3</td>\n",
              "      <td>4</td>\n",
              "      <td>1</td>\n",
              "      <td>SCORE</td>\n",
              "      <td>10000</td>\n",
              "      <td>100</td>\n",
              "      <td>solution-0</td>\n",
              "      <td>2.0</td>\n",
              "      <td>2020-10-30 10:58:11</td>\n",
              "      <td>2020-10-30 10:58:19</td>\n",
              "    </tr>\n",
              "    <tr>\n",
              "      <th>1</th>\n",
              "      <td>5</td>\n",
              "      <td>0</td>\n",
              "      <td>4</td>\n",
              "      <td>4</td>\n",
              "      <td>1</td>\n",
              "      <td>SCORE</td>\n",
              "      <td>10000</td>\n",
              "      <td>100</td>\n",
              "      <td>solution-1</td>\n",
              "      <td>2.0</td>\n",
              "      <td>2020-10-30 11:07:09</td>\n",
              "      <td>2020-10-30 11:07:17</td>\n",
              "    </tr>\n",
              "    <tr>\n",
              "      <th>2</th>\n",
              "      <td>6</td>\n",
              "      <td>0</td>\n",
              "      <td>5</td>\n",
              "      <td>4</td>\n",
              "      <td>0</td>\n",
              "      <td>Compilation Error</td>\n",
              "      <td>0</td>\n",
              "      <td>100</td>\n",
              "      <td>solution-2</td>\n",
              "      <td>2.0</td>\n",
              "      <td>2020-10-30 11:08:01</td>\n",
              "      <td>2020-10-30 11:23:36</td>\n",
              "    </tr>\n",
              "    <tr>\n",
              "      <th>3</th>\n",
              "      <td>7</td>\n",
              "      <td>0</td>\n",
              "      <td>5</td>\n",
              "      <td>4</td>\n",
              "      <td>0</td>\n",
              "      <td>Compilation Error</td>\n",
              "      <td>0</td>\n",
              "      <td>100</td>\n",
              "      <td>solution-3</td>\n",
              "      <td>2.0</td>\n",
              "      <td>2020-10-30 11:11:41</td>\n",
              "      <td>2020-10-30 11:11:42</td>\n",
              "    </tr>\n",
              "    <tr>\n",
              "      <th>4</th>\n",
              "      <td>8</td>\n",
              "      <td>0</td>\n",
              "      <td>5</td>\n",
              "      <td>4</td>\n",
              "      <td>0</td>\n",
              "      <td>Compilation Error</td>\n",
              "      <td>0</td>\n",
              "      <td>100</td>\n",
              "      <td>solution-4</td>\n",
              "      <td>2.0</td>\n",
              "      <td>2020-10-30 11:15:06</td>\n",
              "      <td>2020-10-30 11:15:07</td>\n",
              "    </tr>\n",
              "  </tbody>\n",
              "</table>\n",
              "</div>"
            ],
            "text/plain": [
              "   id  assignment_id  ...           created_at           updated_at\n",
              "0   4              0  ...  2020-10-30 10:58:11  2020-10-30 10:58:19\n",
              "1   5              0  ...  2020-10-30 11:07:09  2020-10-30 11:07:17\n",
              "2   6              0  ...  2020-10-30 11:08:01  2020-10-30 11:23:36\n",
              "3   7              0  ...  2020-10-30 11:11:41  2020-10-30 11:11:42\n",
              "4   8              0  ...  2020-10-30 11:15:06  2020-10-30 11:15:07\n",
              "\n",
              "[5 rows x 12 columns]"
            ]
          },
          "execution_count": 5,
          "metadata": {
            "tags": []
          },
          "output_type": "execute_result"
        }
      ],
      "source": [
        "data.head()"
      ]
    },
    {
      "cell_type": "code",
      "execution_count": null,
      "metadata": {
        "colab": {
          "base_uri": "https://localhost:8080/"
        },
        "id": "NNYQr3rU56tA",
        "outputId": "7e680c5d-bc82-4e78-f1b1-2f6ecb387656"
      },
      "outputs": [
        {
          "data": {
            "text/plain": [
              "2047     1\n",
              "19068    1\n",
              "23166    1\n",
              "21119    1\n",
              "10880    1\n",
              "        ..\n",
              "21824    1\n",
              "17730    1\n",
              "19779    1\n",
              "5448     1\n",
              "2049     1\n",
              "Name: id, Length: 23241, dtype: int64"
            ]
          },
          "execution_count": 23,
          "metadata": {
            "tags": []
          },
          "output_type": "execute_result"
        }
      ],
      "source": [
        "data['id'].value_counts()"
      ]
    },
    {
      "cell_type": "code",
      "execution_count": null,
      "metadata": {
        "colab": {
          "base_uri": "https://localhost:8080/"
        },
        "id": "2QLXJrRrtC45",
        "outputId": "c6b904dc-c1d2-42a5-8e9f-ebe869e20ce7"
      },
      "outputs": [
        {
          "data": {
            "text/plain": [
              "0    15873\n",
              "1     7368\n",
              "Name: is_final, dtype: int64"
            ]
          },
          "execution_count": 6,
          "metadata": {
            "tags": []
          },
          "output_type": "execute_result"
        }
      ],
      "source": [
        "data['is_final'].value_counts()"
      ]
    },
    {
      "cell_type": "code",
      "execution_count": null,
      "metadata": {
        "colab": {
          "base_uri": "https://localhost:8080/"
        },
        "id": "aMESO_f5thHG",
        "outputId": "152a7bb0-f3c6-420b-9747-1bd8bf8e801e"
      },
      "outputs": [
        {
          "data": {
            "text/plain": [
              "user_id\n",
              "1         1\n",
              "4        48\n",
              "6        30\n",
              "11        2\n",
              "14        5\n",
              "       ... \n",
              "1761     18\n",
              "1762     30\n",
              "1764    104\n",
              "1765     70\n",
              "1767     30\n",
              "Length: 599, dtype: int64"
            ]
          },
          "execution_count": 27,
          "metadata": {
            "tags": []
          },
          "output_type": "execute_result"
        }
      ],
      "source": [
        "data.groupby('user_id').size()"
      ]
    },
    {
      "cell_type": "code",
      "execution_count": null,
      "metadata": {
        "colab": {
          "base_uri": "https://localhost:8080/"
        },
        "id": "zJRUQOPrtqt2",
        "outputId": "2e583cf2-0f19-4fc3-8697-a462728a2c54"
      },
      "outputs": [
        {
          "data": {
            "text/plain": [
              "problem_id\n",
              "1      1258\n",
              "2       165\n",
              "3      1462\n",
              "4      1509\n",
              "5       448\n",
              "       ... \n",
              "156       1\n",
              "157       1\n",
              "158       1\n",
              "159       1\n",
              "160       1\n",
              "Length: 147, dtype: int64"
            ]
          },
          "execution_count": 28,
          "metadata": {
            "tags": []
          },
          "output_type": "execute_result"
        }
      ],
      "source": [
        "data.groupby('problem_id').size()"
      ]
    },
    {
      "cell_type": "code",
      "execution_count": null,
      "metadata": {
        "colab": {
          "base_uri": "https://localhost:8080/"
        },
        "id": "zU3dE62SuCrB",
        "outputId": "11226401-a817-4566-b2f0-a30b6569d0e5"
      },
      "outputs": [
        {
          "data": {
            "text/plain": [
              "7     6171\n",
              "0     1856\n",
              "11    1116\n",
              "29    1053\n",
              "36     875\n",
              "39     862\n",
              "23     834\n",
              "28     728\n",
              "25     727\n",
              "31     704\n",
              "43     690\n",
              "8      664\n",
              "49     658\n",
              "27     644\n",
              "12     608\n",
              "48     583\n",
              "40     557\n",
              "45     502\n",
              "21     501\n",
              "13     453\n",
              "42     406\n",
              "10     404\n",
              "24     363\n",
              "5      345\n",
              "41     236\n",
              "52     225\n",
              "19     213\n",
              "50     132\n",
              "30      98\n",
              "38      33\n",
              "Name: assignment_id, dtype: int64"
            ]
          },
          "execution_count": 9,
          "metadata": {
            "tags": []
          },
          "output_type": "execute_result"
        }
      ],
      "source": [
        "data['assignment_id'].value_counts()"
      ]
    },
    {
      "cell_type": "code",
      "execution_count": null,
      "metadata": {
        "colab": {
          "base_uri": "https://localhost:8080/"
        },
        "id": "wURAVSPg_gk1",
        "outputId": "d15a769a-1f9a-4926-99cd-aaac9ea87f75"
      },
      "outputs": [
        {
          "data": {
            "text/plain": [
              "pre_score\n",
              "0        12221\n",
              "50           1\n",
              "100          2\n",
              "150          4\n",
              "200          3\n",
              "         ...  \n",
              "9700         1\n",
              "9850         2\n",
              "9900        16\n",
              "9950         6\n",
              "10000     7268\n",
              "Length: 192, dtype: int64"
            ]
          },
          "execution_count": 29,
          "metadata": {
            "tags": []
          },
          "output_type": "execute_result"
        }
      ],
      "source": [
        "data.groupby('pre_score').size()"
      ]
    },
    {
      "cell_type": "code",
      "execution_count": null,
      "metadata": {
        "colab": {
          "base_uri": "https://localhost:8080/"
        },
        "id": "z9m6RJ2ruB3T",
        "outputId": "7924f7e1-7e02-440f-a505-e5b764a7d433"
      },
      "outputs": [
        {
          "data": {
            "text/plain": [
              "100    23020\n",
              "70       177\n",
              "99        13\n",
              "94         4\n",
              "77         4\n",
              "76         4\n",
              "98         4\n",
              "95         3\n",
              "93         3\n",
              "75         3\n",
              "96         3\n",
              "97         2\n",
              "72         1\n",
              "Name: coefficient, dtype: int64"
            ]
          },
          "execution_count": 10,
          "metadata": {
            "tags": []
          },
          "output_type": "execute_result"
        }
      ],
      "source": [
        "data['coefficient'].value_counts()"
      ]
    },
    {
      "cell_type": "code",
      "execution_count": null,
      "metadata": {
        "colab": {
          "base_uri": "https://localhost:8080/",
          "height": 349
        },
        "id": "PeezKfP9twN9",
        "outputId": "219a0a15-bf5a-4b59-e7a4-d66b4fdd2d7d"
      },
      "outputs": [
        {
          "data": {
            "text/plain": [
              "<matplotlib.axes._subplots.AxesSubplot at 0x7fc017158510>"
            ]
          },
          "execution_count": 11,
          "metadata": {
            "tags": []
          },
          "output_type": "execute_result"
        },
        {
          "data": {
            "image/png": "[encoded data removed]",
            "text/plain": [
              "<Figure size 432x288 with 2 Axes>"
            ]
          },
          "metadata": {
            "needs_background": "light",
            "tags": []
          },
          "output_type": "display_data"
        }
      ],
      "source": [
        "sns.heatmap(data.isnull(), cbar= True, cmap='Blues')"
      ]
    },
    {
      "cell_type": "code",
      "execution_count": null,
      "metadata": {
        "colab": {
          "base_uri": "https://localhost:8080/",
          "height": 350
        },
        "id": "IBrzFmy3lUQW",
        "outputId": "63ce91b9-853c-425b-fc2b-03c55dd7d137"
      },
      "outputs": [
        {
          "name": "stderr",
          "output_type": "stream",
          "text": [
            "/usr/local/lib/python3.7/dist-packages/seaborn/_decorators.py:43: FutureWarning: Pass the following variable as a keyword arg: x. From version 0.12, the only valid positional argument will be `data`, and passing other arguments without an explicit keyword will result in an error or misinterpretation.\n",
            "  FutureWarning\n"
          ]
        },
        {
          "data": {
            "text/plain": [
              "<matplotlib.axes._subplots.AxesSubplot at 0x7fc00dfe2c90>"
            ]
          },
          "execution_count": 12,
          "metadata": {
            "tags": []
          },
          "output_type": "execute_result"
        },
        {
          "data": {
            "image/png": "[encoded data removed]",
            "text/plain": [
              "<Figure size 432x288 with 1 Axes>"
            ]
          },
          "metadata": {
            "needs_background": "light",
            "tags": []
          },
          "output_type": "display_data"
        }
      ],
      "source": [
        "sns.countplot(data['is_final'])"
      ]
    },
    {
      "cell_type": "code",
      "execution_count": null,
      "metadata": {
        "colab": {
          "base_uri": "https://localhost:8080/",
          "height": 350
        },
        "id": "h32fmWRQnr_E",
        "outputId": "5a6cdd4c-fe44-431d-886f-265ba548386d"
      },
      "outputs": [
        {
          "name": "stderr",
          "output_type": "stream",
          "text": [
            "/usr/local/lib/python3.7/dist-packages/seaborn/_decorators.py:43: FutureWarning: Pass the following variable as a keyword arg: x. From version 0.12, the only valid positional argument will be `data`, and passing other arguments without an explicit keyword will result in an error or misinterpretation.\n",
            "  FutureWarning\n"
          ]
        },
        {
          "data": {
            "text/plain": [
              "<matplotlib.axes._subplots.AxesSubplot at 0x7fc016516090>"
            ]
          },
          "execution_count": 13,
          "metadata": {
            "tags": []
          },
          "output_type": "execute_result"
        },
        {
          "data": {
            "image/png": "[encoded data removed]",
            "text/plain": [
              "<Figure size 432x288 with 1 Axes>"
            ]
          },
          "metadata": {
            "needs_background": "light",
            "tags": []
          },
          "output_type": "display_data"
        }
      ],
      "source": [
        "sns.countplot(data['status'])"
      ]
    },
    {
      "cell_type": "code",
      "execution_count": null,
      "metadata": {
        "id": "1bf5JxtIAszs"
      },
      "outputs": [],
      "source": []
    },
    {
      "cell_type": "code",
      "execution_count": null,
      "metadata": {
        "colab": {
          "base_uri": "https://localhost:8080/",
          "height": 350
        },
        "id": "zcrg3qS3snG1",
        "outputId": "cc39cebc-5684-4459-8350-99f0c2f859a3"
      },
      "outputs": [
        {
          "name": "stderr",
          "output_type": "stream",
          "text": [
            "/usr/local/lib/python3.7/dist-packages/seaborn/_decorators.py:43: FutureWarning: Pass the following variable as a keyword arg: x. From version 0.12, the only valid positional argument will be `data`, and passing other arguments without an explicit keyword will result in an error or misinterpretation.\n",
            "  FutureWarning\n"
          ]
        },
        {
          "data": {
            "text/plain": [
              "<matplotlib.axes._subplots.AxesSubplot at 0x7fc00e47b250>"
            ]
          },
          "execution_count": 15,
          "metadata": {
            "tags": []
          },
          "output_type": "execute_result"
        },
        {
          "data": {
            "image/png": "[encoded data removed]",
            "text/plain": [
              "<Figure size 432x288 with 1 Axes>"
            ]
          },
          "metadata": {
            "needs_background": "light",
            "tags": []
          },
          "output_type": "display_data"
        }
      ],
      "source": [
        "sns.countplot(data['status'], hue= data['is_final'])"
      ]
    }
  ],
  "metadata": {
    "colab": {
      "collapsed_sections": [],
      "name": "ML_EDA_Wecode",
      "provenance": []
    },
    "kernelspec": {
      "display_name": "Python 3",
      "name": "python3"
    },
    "language_info": {
      "name": "python"
    }
  },
  "nbformat": 4,
  "nbformat_minor": 0
}
