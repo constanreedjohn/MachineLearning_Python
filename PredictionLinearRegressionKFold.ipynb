{
  "cells": [
    {
      "cell_type": "markdown",
      "metadata": {},
      "source": [
        "# Import lib"
      ]
    },
    {
      "cell_type": "code",
      "execution_count": 1,
      "metadata": {
        "id": "XIYQvpIWg0H_"
      },
      "outputs": [],
      "source": [
        "import numpy as np\n",
        "import pandas as pd\n",
        "from sklearn.linear_model import LinearRegression\n",
        "from sklearn.model_selection import train_test_split\n",
        "from sklearn.metrics import mean_squared_error, r2_score"
      ]
    },
    {
      "cell_type": "markdown",
      "metadata": {},
      "source": [
        "# Get dataset"
      ]
    },
    {
      "cell_type": "code",
      "execution_count": 2,
      "metadata": {
        "colab": {
          "base_uri": "https://localhost:8080/"
        },
        "id": "VjcFUzujhrHy",
        "outputId": "b4531258-5501-43c5-ce0a-1c576f92e51a"
      },
      "outputs": [
        {
          "name": "stdout",
          "output_type": "stream",
          "text": [
            "<class 'pandas.core.frame.DataFrame'>\n",
            "RangeIndex: 30 entries, 0 to 29\n",
            "Data columns (total 2 columns):\n",
            " #   Column           Non-Null Count  Dtype  \n",
            "---  ------           --------------  -----  \n",
            " 0   YearsExperience  30 non-null     float64\n",
            " 1   Salary           30 non-null     float64\n",
            "dtypes: float64(2)\n",
            "memory usage: 608.0 bytes\n"
          ]
        }
      ],
      "source": [
        "data = pd.read_csv('Salary_Data.csv')\n",
        "data.info()"
      ]
    },
    {
      "cell_type": "code",
      "execution_count": 3,
      "metadata": {
        "colab": {
          "base_uri": "https://localhost:8080/",
          "height": 203
        },
        "id": "qupB7wzVhvUt",
        "outputId": "3c782d00-ce4f-4e6e-b50d-62d50903f2b6"
      },
      "outputs": [
        {
          "data": {
            "text/html": [
              "<div>\n",
              "<style scoped>\n",
              "    .dataframe tbody tr th:only-of-type {\n",
              "        vertical-align: middle;\n",
              "    }\n",
              "\n",
              "    .dataframe tbody tr th {\n",
              "        vertical-align: top;\n",
              "    }\n",
              "\n",
              "    .dataframe thead th {\n",
              "        text-align: right;\n",
              "    }\n",
              "</style>\n",
              "<table border=\"1\" class=\"dataframe\">\n",
              "  <thead>\n",
              "    <tr style=\"text-align: right;\">\n",
              "      <th></th>\n",
              "      <th>YearsExperience</th>\n",
              "      <th>Salary</th>\n",
              "    </tr>\n",
              "  </thead>\n",
              "  <tbody>\n",
              "    <tr>\n",
              "      <th>0</th>\n",
              "      <td>1.1</td>\n",
              "      <td>39343.0</td>\n",
              "    </tr>\n",
              "    <tr>\n",
              "      <th>1</th>\n",
              "      <td>1.3</td>\n",
              "      <td>46205.0</td>\n",
              "    </tr>\n",
              "    <tr>\n",
              "      <th>2</th>\n",
              "      <td>1.5</td>\n",
              "      <td>37731.0</td>\n",
              "    </tr>\n",
              "    <tr>\n",
              "      <th>3</th>\n",
              "      <td>2.0</td>\n",
              "      <td>43525.0</td>\n",
              "    </tr>\n",
              "    <tr>\n",
              "      <th>4</th>\n",
              "      <td>2.2</td>\n",
              "      <td>39891.0</td>\n",
              "    </tr>\n",
              "  </tbody>\n",
              "</table>\n",
              "</div>"
            ],
            "text/plain": [
              "   YearsExperience   Salary\n",
              "0              1.1  39343.0\n",
              "1              1.3  46205.0\n",
              "2              1.5  37731.0\n",
              "3              2.0  43525.0\n",
              "4              2.2  39891.0"
            ]
          },
          "execution_count": 3,
          "metadata": {},
          "output_type": "execute_result"
        }
      ],
      "source": [
        "data.head()"
      ]
    },
    {
      "cell_type": "code",
      "execution_count": 4,
      "metadata": {
        "id": "n8-_uZmEu4GM"
      },
      "outputs": [],
      "source": [
        "X = data['YearsExperience']\n",
        "y = data['Salary']"
      ]
    },
    {
      "cell_type": "markdown",
      "metadata": {
        "id": "LhsHnvErD2gg"
      },
      "source": [
        "# Split data"
      ]
    },
    {
      "cell_type": "code",
      "execution_count": 5,
      "metadata": {
        "id": "42eEmWb6BxN_"
      },
      "outputs": [],
      "source": [
        "X_train, X_test, y_train, y_test = train_test_split(X, y, test_size=0.2, random_state=0)"
      ]
    },
    {
      "cell_type": "code",
      "execution_count": 6,
      "metadata": {
        "id": "hBYI6yo4CBXH"
      },
      "outputs": [],
      "source": [
        "X_train = X_train.values.reshape(-1, 1)\n",
        "X_test = X_test.values.reshape(-1 , 1)"
      ]
    },
    {
      "cell_type": "code",
      "execution_count": 7,
      "metadata": {
        "id": "5DThkmTcjRE6"
      },
      "outputs": [],
      "source": [
        "linear = LinearRegression()"
      ]
    },
    {
      "cell_type": "markdown",
      "metadata": {
        "id": "AG33EFepD4gi"
      },
      "source": [
        "# Model predict without KFold"
      ]
    },
    {
      "cell_type": "code",
      "execution_count": 8,
      "metadata": {
        "colab": {
          "base_uri": "https://localhost:8080/"
        },
        "id": "TsNVWdu3m4nb",
        "outputId": "221341e1-dd2e-4633-f173-2bf402180c10"
      },
      "outputs": [
        {
          "name": "stdout",
          "output_type": "stream",
          "text": [
            "MSE:  12823412.298126549\n",
            "R2 score:  0.986482673117654\n"
          ]
        }
      ],
      "source": [
        "linear.fit(X_train, y_train)\n",
        "y_pred = linear.predict(X_test)\n",
        "print('MSE: ', mean_squared_error(y_pred, y_test))\n",
        "print('R2 score: ', r2_score(y_pred, y_test))"
      ]
    },
    {
      "cell_type": "code",
      "execution_count": 9,
      "metadata": {
        "colab": {
          "base_uri": "https://localhost:8080/",
          "height": 252
        },
        "id": "0sseuqCwCVhi",
        "outputId": "dfe89917-8c9d-4af4-edbc-73cbabc034de"
      },
      "outputs": [
        {
          "data": {
            "image/png": "[encoded data removed]",
            "text/plain": [
              "<Figure size 432x288 with 1 Axes>"
            ]
          },
          "metadata": {},
          "output_type": "display_data"
        }
      ],
      "source": [
        "import matplotlib.pyplot as plt\n",
        "\n",
        "plt.scatter(X_train, y_train, color='black', label='Train')\n",
        "plt.scatter(X_test, y_test, color='red', label='Test')\n",
        "plt.plot(X_test, y_pred, color='blue', linewidth=3, label='Model predict')\n",
        "plt.legend()\n",
        "\n",
        "plt.xticks(())\n",
        "plt.yticks(())\n",
        "\n",
        "plt.show()"
      ]
    },
    {
      "cell_type": "markdown",
      "metadata": {
        "id": "przXj8qJ6uZ6"
      },
      "source": [
        "# Kfold cross-validation"
      ]
    },
    {
      "cell_type": "code",
      "execution_count": 11,
      "metadata": {
        "id": "A6sWH87Q6xv2"
      },
      "outputs": [],
      "source": [
        "from sklearn.model_selection import KFold\n",
        "cv = KFold(n_splits=5)"
      ]
    },
    {
      "cell_type": "code",
      "execution_count": 38,
      "metadata": {
        "colab": {
          "base_uri": "https://localhost:8080/"
        },
        "id": "FeV-WunS6_Ce",
        "outputId": "a4169f16-524f-42a5-9770-2cb920b49429"
      },
      "outputs": [
        {
          "name": "stdout",
          "output_type": "stream",
          "text": [
            "R2 with fold 1 : 0.24924748058451995\n",
            "MSE with fold 1 : 25905138.76967999 \n",
            "\n",
            "R2 with fold 2 : -1.331449274491154\n",
            "MSE with fold 2 : 30974669.998575736 \n",
            "\n",
            "R2 with fold 3 : -1.881772133038969\n",
            "MSE with fold 3 : 59780662.11837491 \n",
            "\n",
            "R2 with fold 4 : -0.09039594251697336\n",
            "MSE with fold 4 : 68417038.21806611 \n",
            "\n",
            "R2 with fold 5 : 0.14373929066069802\n",
            "MSE with fold 5 : 35766738.23965806 \n",
            "\n"
          ]
        }
      ],
      "source": [
        "splits = 5\n",
        "r2 = 0\n",
        "mse = 0\n",
        "count = 1\n",
        "R2 = []\n",
        "MSE = []\n",
        "\n",
        "for train_idx, test_idx in cv.split(X, y):\n",
        "  X_train, X_test = X[train_idx], X[test_idx]\n",
        "  y_train, y_test = y[train_idx], y[test_idx]\n",
        "\n",
        "  X_train = X_train.values.reshape(-1, 1)\n",
        "  X_test = X_test.values.reshape(-1, 1)\n",
        "\n",
        "  model = LinearRegression()\n",
        "  model.fit(X_train, y_train)\n",
        "  y_pred = model.predict(X_test)\n",
        "\n",
        "  r2 += r2_score(y_pred, y_test)\n",
        "  mse += mean_squared_error(y_pred, y_test)\n",
        "  R2.append(r2)\n",
        "  MSE.append(mse)\n",
        "\n",
        "  print(f'R2 with fold {count} : {r2_score(y_pred, y_test)}')\n",
        "  print(f'MSE with fold {count} : {mean_squared_error(y_pred, y_test)} \\n')\n",
        "  count += 1\n",
        "\n",
        "r2 /= splits\n",
        "mse /= splits"
      ]
    },
    {
      "cell_type": "markdown",
      "metadata": {},
      "source": [
        "# Evaluation and plot"
      ]
    },
    {
      "cell_type": "code",
      "execution_count": 30,
      "metadata": {
        "colab": {
          "base_uri": "https://localhost:8080/"
        },
        "id": "VYrYwBQb8Z7W",
        "outputId": "bf5256ea-02bd-4d27-d07f-5876894c46a6"
      },
      "outputs": [
        {
          "name": "stdout",
          "output_type": "stream",
          "text": [
            "R2:  -0.5821261157603758\n",
            "MSE:  44168849.46887096\n"
          ]
        }
      ],
      "source": [
        "print('R2: ', r2)\n",
        "print('MSE: ', mse)"
      ]
    },
    {
      "cell_type": "code",
      "execution_count": 44,
      "metadata": {
        "colab": {
          "base_uri": "https://localhost:8080/",
          "height": 296
        },
        "id": "hykVMsGQ9Y8h",
        "outputId": "9f2ed3e4-4307-4e40-e33b-181ee98a05f5"
      },
      "outputs": [
        {
          "data": {
            "text/plain": [
              "<function matplotlib.pyplot.show>"
            ]
          },
          "execution_count": 44,
          "metadata": {},
          "output_type": "execute_result"
        },
        {
          "data": {
            "image/png": "[encoded data removed]",
            "text/plain": [
              "<Figure size 432x288 with 1 Axes>"
            ]
          },
          "metadata": {
            "needs_background": "light"
          },
          "output_type": "display_data"
        }
      ],
      "source": [
        "plt.plot(R2)\n",
        "plt.xticks([0, 1, 2, 3, 4])\n",
        "plt.xlabel('Fold')\n",
        "plt.ylabel('R2 score')\n",
        "plt.show"
      ]
    },
    {
      "cell_type": "code",
      "execution_count": 45,
      "metadata": {
        "colab": {
          "base_uri": "https://localhost:8080/",
          "height": 307
        },
        "id": "WjcjYviz_hIT",
        "outputId": "fa15e7f8-c31b-4da6-f43c-e61af3893878"
      },
      "outputs": [
        {
          "data": {
            "text/plain": [
              "<function matplotlib.pyplot.show>"
            ]
          },
          "execution_count": 45,
          "metadata": {},
          "output_type": "execute_result"
        },
        {
          "data": {
            "image/png": "[encoded data removed]",
            "text/plain": [
              "<Figure size 432x288 with 1 Axes>"
            ]
          },
          "metadata": {
            "needs_background": "light"
          },
          "output_type": "display_data"
        }
      ],
      "source": [
        "plt.plot(MSE)\n",
        "plt.xticks([0, 1, 2, 3, 4])\n",
        "plt.xlabel('Fold')\n",
        "plt.ylabel('MSE')\n",
        "plt.show"
      ]
    }
  ],
  "metadata": {
    "colab": {
      "collapsed_sections": [],
      "name": "MLPython_BTTH8",
      "provenance": []
    },
    "kernelspec": {
      "display_name": "Python 3",
      "name": "python3"
    },
    "language_info": {
      "name": "python"
    }
  },
  "nbformat": 4,
  "nbformat_minor": 0
}
