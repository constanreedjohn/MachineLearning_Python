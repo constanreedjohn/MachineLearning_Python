{
  "nbformat": 4,
  "nbformat_minor": 0,
  "metadata": {
    "colab": {
      "name": "MLPython_BTTH11",
      "provenance": [],
      "collapsed_sections": []
    },
    "kernelspec": {
      "name": "python3",
      "display_name": "Python 3"
    },
    "language_info": {
      "name": "python"
    },
    "accelerator": "GPU"
  },
  "cells": [
    {
      "cell_type": "markdown",
      "metadata": {
        "id": "DfpnNk7aAgCk"
      },
      "source": [
        "# Import lib"
      ]
    },
    {
      "cell_type": "code",
      "metadata": {
        "id": "xUh6-_UZpV0o"
      },
      "source": [
        "import tensorflow as tf\n",
        "import numpy as np\n",
        "from keras.datasets import mnist\n",
        "from keras.layers import Input, Dense, Conv2D, MaxPooling2D, Flatten, Add, AveragePooling2D\n",
        "from keras.models import load_model, Model\n",
        "from tensorflow.keras.utils import plot_model"
      ],
      "execution_count": 12,
      "outputs": []
    },
    {
      "cell_type": "markdown",
      "metadata": {
        "id": "849WODlqAkMo"
      },
      "source": [
        "# Create model"
      ]
    },
    {
      "cell_type": "code",
      "metadata": {
        "id": "jWYYen3-qOgi"
      },
      "source": [
        "class CNN:\n",
        "  def __init__(self):\n",
        "    self.model = None\n",
        "\n",
        "  def build(self, input_size):\n",
        "    input = Input(shape=input_size, name='input')\n",
        "    C1 = Conv2D(8, (3, 3), padding='same', activation='relu')(input)\n",
        "    P1 = MaxPooling2D(strides=2)(C1)\n",
        "    C2 = Conv2D(8, (3, 3), padding='same', activation='relu')(P1)\n",
        "    C3 = Conv2D(8, (3, 3), padding='same', activation='relu')(C2)\n",
        "    Add1 = Add()([C3, P1])\n",
        "    C4 = Conv2D(16, (3, 3), padding='same', activation='relu', strides=2)(Add1)\n",
        "    C5 = Conv2D(16, (3, 3), padding='same', activation='relu')(C4)\n",
        "    C6 = Conv2D(16, (3, 3), padding='same', activation='relu')(C5)\n",
        "    Add2 = Add()([C4, C6])\n",
        "    P2 = AveragePooling2D()(Add2)\n",
        "    flat = Flatten()(P2)\n",
        "    FC1 = Dense(400, activation='relu')(flat)\n",
        "    FC2 = Dense(10, activation='softmax', name='output')(FC1)\n",
        "    output = FC2\n",
        "\n",
        "    self.model = Model(input, output)\n",
        "    self.model.compile(optimizer='adam', loss='categorical_crossentropy')\n",
        "\n",
        "  def train(self, X_train, y_train, X_test, y_test):\n",
        "    return self.model.fit(X_train, y_train, validation_data=(X_test, y_test), epochs=50, batch_size=64)\n",
        "\n",
        "  def load(self, model_file):\n",
        "    self.model = load_model(model_file)\n",
        "\n",
        "  def save(self, model_file):\n",
        "    self.model.save(model_file)\n",
        "\n",
        "  def summary(self):\n",
        "    plot_model(self.model, to_file='model.png')\n",
        "    self.model.summary()\n",
        "\n",
        "  def predict(self, X_test):\n",
        "    return self.model.predict(X_test)"
      ],
      "execution_count": 33,
      "outputs": []
    },
    {
      "cell_type": "markdown",
      "metadata": {
        "id": "n7ejGpYKAmAX"
      },
      "source": [
        "# Get dataset"
      ]
    },
    {
      "cell_type": "code",
      "metadata": {
        "colab": {
          "base_uri": "https://localhost:8080/"
        },
        "id": "L9OGUjHvyBYo",
        "outputId": "42c51e8d-72d5-4c55-de5b-dd2e4302c970"
      },
      "source": [
        "(X_train, y_train), (X_test, y_test) = mnist.load_data()\n",
        "\n",
        "print(X_train.shape)\n",
        "print(y_train.shape)\n",
        "print(X_test.shape)\n",
        "print(y_test.shape)"
      ],
      "execution_count": 3,
      "outputs": [
        {
          "output_type": "stream",
          "name": "stdout",
          "text": [
            "Downloading data from https://storage.googleapis.com/tensorflow/tf-keras-datasets/mnist.npz\n",
            "11493376/11490434 [==============================] - 0s 0us/step\n",
            "11501568/11490434 [==============================] - 0s 0us/step\n",
            "(60000, 28, 28)\n",
            "(60000,)\n",
            "(10000, 28, 28)\n",
            "(10000,)\n"
          ]
        }
      ]
    },
    {
      "cell_type": "markdown",
      "metadata": {
        "id": "7Tm-YXf-AnmY"
      },
      "source": [
        "# Onehot"
      ]
    },
    {
      "cell_type": "code",
      "metadata": {
        "id": "PhLCPHfKyQe7"
      },
      "source": [
        "def onehot(y):\n",
        "  oh = np.zeros((y.shape[0], 10))\n",
        "  for i in range(y.shape[0]):\n",
        "    oh[i, int(y[i])] = 1\n",
        "  return oh"
      ],
      "execution_count": 4,
      "outputs": []
    },
    {
      "cell_type": "markdown",
      "metadata": {
        "id": "opOY1lA_ApYg"
      },
      "source": [
        "# Data Preprocess"
      ]
    },
    {
      "cell_type": "code",
      "metadata": {
        "id": "UCfCOOSQzCoU"
      },
      "source": [
        "y_train_oh = onehot(y_train)\n",
        "y_train_oh.shape\n",
        "\n",
        "y_test_oh = onehot(y_test)\n",
        "y_test_oh.shape\n",
        "\n",
        "X_train_norm = X_train / 255.0\n",
        "X_test_norm = X_test / 255.0\n",
        "\n",
        "X_train = X_train[:, :, :, np.newaxis]\n",
        "X_test = X_test[:, :, :, np.newaxis]"
      ],
      "execution_count": 5,
      "outputs": []
    },
    {
      "cell_type": "markdown",
      "metadata": {
        "id": "YFL3Yr6nAral"
      },
      "source": [
        "# Call model"
      ]
    },
    {
      "cell_type": "code",
      "metadata": {
        "colab": {
          "base_uri": "https://localhost:8080/"
        },
        "id": "wHIx991O2BG1",
        "outputId": "63d78ee5-98d2-463a-a5c1-0ca507645d46"
      },
      "source": [
        "model = CNN()\n",
        "model.build((28, 28, 1))\n",
        "model.summary()"
      ],
      "execution_count": 25,
      "outputs": [
        {
          "output_type": "stream",
          "name": "stdout",
          "text": [
            "Model: \"model_5\"\n",
            "__________________________________________________________________________________________________\n",
            "Layer (type)                    Output Shape         Param #     Connected to                     \n",
            "==================================================================================================\n",
            "input (InputLayer)              [(None, 28, 28, 1)]  0                                            \n",
            "__________________________________________________________________________________________________\n",
            "conv2d_30 (Conv2D)              (None, 28, 28, 8)    80          input[0][0]                      \n",
            "__________________________________________________________________________________________________\n",
            "max_pooling2d_5 (MaxPooling2D)  (None, 14, 14, 8)    0           conv2d_30[0][0]                  \n",
            "__________________________________________________________________________________________________\n",
            "conv2d_31 (Conv2D)              (None, 14, 14, 8)    584         max_pooling2d_5[0][0]            \n",
            "__________________________________________________________________________________________________\n",
            "conv2d_32 (Conv2D)              (None, 14, 14, 8)    584         conv2d_31[0][0]                  \n",
            "__________________________________________________________________________________________________\n",
            "add_10 (Add)                    (None, 14, 14, 8)    0           conv2d_32[0][0]                  \n",
            "                                                                 max_pooling2d_5[0][0]            \n",
            "__________________________________________________________________________________________________\n",
            "conv2d_33 (Conv2D)              (None, 7, 7, 16)     1168        add_10[0][0]                     \n",
            "__________________________________________________________________________________________________\n",
            "conv2d_34 (Conv2D)              (None, 7, 7, 16)     2320        conv2d_33[0][0]                  \n",
            "__________________________________________________________________________________________________\n",
            "conv2d_35 (Conv2D)              (None, 7, 7, 16)     2320        conv2d_34[0][0]                  \n",
            "__________________________________________________________________________________________________\n",
            "add_11 (Add)                    (None, 7, 7, 16)     0           conv2d_33[0][0]                  \n",
            "                                                                 conv2d_35[0][0]                  \n",
            "__________________________________________________________________________________________________\n",
            "average_pooling2d_5 (AveragePoo (None, 3, 3, 16)     0           add_11[0][0]                     \n",
            "__________________________________________________________________________________________________\n",
            "flatten_5 (Flatten)             (None, 144)          0           average_pooling2d_5[0][0]        \n",
            "__________________________________________________________________________________________________\n",
            "dense_5 (Dense)                 (None, 400)          58000       flatten_5[0][0]                  \n",
            "__________________________________________________________________________________________________\n",
            "output (Dense)                  (None, 10)           4010        dense_5[0][0]                    \n",
            "==================================================================================================\n",
            "Total params: 69,066\n",
            "Trainable params: 69,066\n",
            "Non-trainable params: 0\n",
            "__________________________________________________________________________________________________\n"
          ]
        }
      ]
    },
    {
      "cell_type": "markdown",
      "metadata": {
        "id": "N9zv4KzSAuug"
      },
      "source": [
        "# Train model"
      ]
    },
    {
      "cell_type": "code",
      "metadata": {
        "colab": {
          "base_uri": "https://localhost:8080/"
        },
        "id": "JhgXr0sA3j9Y",
        "outputId": "72f31e5f-2ef6-493a-f802-3f8f41be5563"
      },
      "source": [
        "train = model.train(X_train_norm, y_train_oh, X_test_norm, y_test_oh)"
      ],
      "execution_count": 26,
      "outputs": [
        {
          "output_type": "stream",
          "name": "stdout",
          "text": [
            "Epoch 1/50\n",
            "938/938 [==============================] - 8s 8ms/step - loss: 0.2786 - val_loss: 0.1094\n",
            "Epoch 2/50\n",
            "938/938 [==============================] - 7s 8ms/step - loss: 0.0862 - val_loss: 0.0511\n",
            "Epoch 3/50\n",
            "938/938 [==============================] - 7s 8ms/step - loss: 0.0617 - val_loss: 0.0484\n",
            "Epoch 4/50\n",
            "938/938 [==============================] - 7s 8ms/step - loss: 0.0500 - val_loss: 0.0536\n",
            "Epoch 5/50\n",
            "938/938 [==============================] - 7s 8ms/step - loss: 0.0419 - val_loss: 0.0369\n",
            "Epoch 6/50\n",
            "938/938 [==============================] - 7s 8ms/step - loss: 0.0356 - val_loss: 0.0407\n",
            "Epoch 7/50\n",
            "938/938 [==============================] - 7s 8ms/step - loss: 0.0316 - val_loss: 0.0395\n",
            "Epoch 8/50\n",
            "938/938 [==============================] - 7s 8ms/step - loss: 0.0275 - val_loss: 0.0388\n",
            "Epoch 9/50\n",
            "938/938 [==============================] - 7s 8ms/step - loss: 0.0245 - val_loss: 0.0313\n",
            "Epoch 10/50\n",
            "938/938 [==============================] - 7s 8ms/step - loss: 0.0220 - val_loss: 0.0359\n",
            "Epoch 11/50\n",
            "938/938 [==============================] - 7s 8ms/step - loss: 0.0191 - val_loss: 0.0333\n",
            "Epoch 12/50\n",
            "938/938 [==============================] - 7s 8ms/step - loss: 0.0189 - val_loss: 0.0293\n",
            "Epoch 13/50\n",
            "938/938 [==============================] - 7s 8ms/step - loss: 0.0160 - val_loss: 0.0307\n",
            "Epoch 14/50\n",
            "938/938 [==============================] - 7s 8ms/step - loss: 0.0137 - val_loss: 0.0358\n",
            "Epoch 15/50\n",
            "938/938 [==============================] - 7s 8ms/step - loss: 0.0138 - val_loss: 0.0397\n",
            "Epoch 16/50\n",
            "938/938 [==============================] - 7s 8ms/step - loss: 0.0130 - val_loss: 0.0347\n",
            "Epoch 17/50\n",
            "938/938 [==============================] - 7s 8ms/step - loss: 0.0109 - val_loss: 0.0275\n",
            "Epoch 18/50\n",
            "938/938 [==============================] - 7s 8ms/step - loss: 0.0110 - val_loss: 0.0305\n",
            "Epoch 19/50\n",
            "938/938 [==============================] - 7s 8ms/step - loss: 0.0096 - val_loss: 0.0384\n",
            "Epoch 20/50\n",
            "938/938 [==============================] - 7s 8ms/step - loss: 0.0101 - val_loss: 0.0417\n",
            "Epoch 21/50\n",
            "938/938 [==============================] - 7s 8ms/step - loss: 0.0098 - val_loss: 0.0338\n",
            "Epoch 22/50\n",
            "938/938 [==============================] - 7s 8ms/step - loss: 0.0080 - val_loss: 0.0350\n",
            "Epoch 23/50\n",
            "938/938 [==============================] - 7s 8ms/step - loss: 0.0090 - val_loss: 0.0373\n",
            "Epoch 24/50\n",
            "938/938 [==============================] - 7s 8ms/step - loss: 0.0080 - val_loss: 0.0503\n",
            "Epoch 25/50\n",
            "938/938 [==============================] - 7s 8ms/step - loss: 0.0078 - val_loss: 0.0443\n",
            "Epoch 26/50\n",
            "938/938 [==============================] - 7s 8ms/step - loss: 0.0070 - val_loss: 0.0478\n",
            "Epoch 27/50\n",
            "938/938 [==============================] - 7s 8ms/step - loss: 0.0070 - val_loss: 0.0473\n",
            "Epoch 28/50\n",
            "938/938 [==============================] - 7s 8ms/step - loss: 0.0067 - val_loss: 0.0418\n",
            "Epoch 29/50\n",
            "938/938 [==============================] - 7s 8ms/step - loss: 0.0056 - val_loss: 0.0533\n",
            "Epoch 30/50\n",
            "938/938 [==============================] - 7s 8ms/step - loss: 0.0068 - val_loss: 0.0524\n",
            "Epoch 31/50\n",
            "938/938 [==============================] - 7s 8ms/step - loss: 0.0075 - val_loss: 0.0564\n",
            "Epoch 32/50\n",
            "938/938 [==============================] - 7s 8ms/step - loss: 0.0048 - val_loss: 0.0461\n",
            "Epoch 33/50\n",
            "938/938 [==============================] - 7s 8ms/step - loss: 0.0080 - val_loss: 0.0485\n",
            "Epoch 34/50\n",
            "938/938 [==============================] - 7s 8ms/step - loss: 0.0055 - val_loss: 0.0646\n",
            "Epoch 35/50\n",
            "938/938 [==============================] - 7s 8ms/step - loss: 0.0066 - val_loss: 0.0451\n",
            "Epoch 36/50\n",
            "938/938 [==============================] - 7s 8ms/step - loss: 0.0048 - val_loss: 0.0585\n",
            "Epoch 37/50\n",
            "938/938 [==============================] - 7s 8ms/step - loss: 0.0059 - val_loss: 0.0614\n",
            "Epoch 38/50\n",
            "938/938 [==============================] - 7s 8ms/step - loss: 0.0064 - val_loss: 0.0455\n",
            "Epoch 39/50\n",
            "938/938 [==============================] - 7s 8ms/step - loss: 0.0046 - val_loss: 0.0475\n",
            "Epoch 40/50\n",
            "938/938 [==============================] - 7s 8ms/step - loss: 0.0064 - val_loss: 0.0464\n",
            "Epoch 41/50\n",
            "938/938 [==============================] - 7s 8ms/step - loss: 0.0042 - val_loss: 0.0476\n",
            "Epoch 42/50\n",
            "938/938 [==============================] - 7s 8ms/step - loss: 0.0054 - val_loss: 0.0449\n",
            "Epoch 43/50\n",
            "938/938 [==============================] - 7s 8ms/step - loss: 0.0065 - val_loss: 0.0449\n",
            "Epoch 44/50\n",
            "938/938 [==============================] - 7s 8ms/step - loss: 0.0037 - val_loss: 0.0532\n",
            "Epoch 45/50\n",
            "938/938 [==============================] - 7s 8ms/step - loss: 0.0046 - val_loss: 0.0450\n",
            "Epoch 46/50\n",
            "938/938 [==============================] - 7s 8ms/step - loss: 0.0062 - val_loss: 0.0458\n",
            "Epoch 47/50\n",
            "938/938 [==============================] - 7s 8ms/step - loss: 0.0043 - val_loss: 0.0654\n",
            "Epoch 48/50\n",
            "938/938 [==============================] - 7s 8ms/step - loss: 0.0050 - val_loss: 0.0521\n",
            "Epoch 49/50\n",
            "938/938 [==============================] - 7s 8ms/step - loss: 0.0050 - val_loss: 0.0590\n",
            "Epoch 50/50\n",
            "938/938 [==============================] - 7s 8ms/step - loss: 0.0051 - val_loss: 0.0472\n"
          ]
        }
      ]
    },
    {
      "cell_type": "markdown",
      "metadata": {
        "id": "p6pG7V-nAwWA"
      },
      "source": [
        "# Plot loss"
      ]
    },
    {
      "cell_type": "code",
      "metadata": {
        "id": "j7BExlDZ6w8b"
      },
      "source": [
        "import matplotlib.pyplot as plt"
      ],
      "execution_count": 18,
      "outputs": []
    },
    {
      "cell_type": "code",
      "metadata": {
        "colab": {
          "base_uri": "https://localhost:8080/",
          "height": 279
        },
        "id": "GjnZkj1p7JZn",
        "outputId": "36705298-588e-44b0-c0ce-1cca374e12ba"
      },
      "source": [
        "plt.xlabel('epochs')\n",
        "plt.ylabel('Loss')\n",
        "plt.plot(train.history['loss'])\n",
        "plt.show()"
      ],
      "execution_count": 27,
      "outputs": [
        {
          "output_type": "display_data",
          "data": {
            "image/png": "[encoded data removed]",
            "text/plain": [
              "<Figure size 432x288 with 1 Axes>"
            ]
          },
          "metadata": {
            "needs_background": "light"
          }
        }
      ]
    },
    {
      "cell_type": "markdown",
      "metadata": {
        "id": "ZP67W-JAAy_E"
      },
      "source": [
        "# Evaluate"
      ]
    },
    {
      "cell_type": "code",
      "metadata": {
        "colab": {
          "base_uri": "https://localhost:8080/",
          "height": 298
        },
        "id": "bknxRSds7Zs3",
        "outputId": "531f2ac9-3020-4eed-ea82-58ba1b91119b"
      },
      "source": [
        "pred = model.predict(X_test)\n",
        "test_idx = 1\n",
        "plt.imshow(X_test_norm[test_idx])\n",
        "plt.show()\n",
        "print(\"Predicted: \", np.argmax(pred[test_idx]))\n",
        "print(\"Ground truth: \", y_test[test_idx])"
      ],
      "execution_count": 42,
      "outputs": [
        {
          "output_type": "display_data",
          "data": {
            "image/png": "[encoded data removed]",
            "text/plain": [
              "<Figure size 432x288 with 1 Axes>"
            ]
          },
          "metadata": {
            "needs_background": "light"
          }
        },
        {
          "output_type": "stream",
          "name": "stdout",
          "text": [
            "Predicted:  2\n",
            "Ground truth:  2\n"
          ]
        }
      ]
    },
    {
      "cell_type": "code",
      "metadata": {
        "colab": {
          "base_uri": "https://localhost:8080/",
          "height": 298
        },
        "id": "y_Z1dmvR8Hk1",
        "outputId": "f33179ca-34c1-4b9d-8c2f-02d6f261bf60"
      },
      "source": [
        "pred = model.predict(X_test)\n",
        "test_idx = 5\n",
        "plt.imshow(X_test_norm[test_idx])\n",
        "plt.show()\n",
        "print(\"Predicted: \", np.argmax(pred[test_idx]))\n",
        "print(\"Ground truth: \", y_test[test_idx])"
      ],
      "execution_count": 43,
      "outputs": [
        {
          "output_type": "display_data",
          "data": {
            "image/png": "[encoded data removed]",
            "text/plain": [
              "<Figure size 432x288 with 1 Axes>"
            ]
          },
          "metadata": {
            "needs_background": "light"
          }
        },
        {
          "output_type": "stream",
          "name": "stdout",
          "text": [
            "Predicted:  1\n",
            "Ground truth:  1\n"
          ]
        }
      ]
    },
    {
      "cell_type": "code",
      "metadata": {
        "colab": {
          "base_uri": "https://localhost:8080/",
          "height": 298
        },
        "id": "ZMy4gC8T8Ivs",
        "outputId": "e2c96471-d821-4372-c36b-00f010e1d943"
      },
      "source": [
        "pred = model.predict(X_test)\n",
        "test_idx = 10\n",
        "plt.imshow(X_test_norm[test_idx])\n",
        "plt.show()\n",
        "print(\"Predicted: \", np.argmax(pred[test_idx]))\n",
        "print(\"Ground truth: \", y_test[test_idx])"
      ],
      "execution_count": 45,
      "outputs": [
        {
          "output_type": "display_data",
          "data": {
            "image/png": "[encoded data removed]",
            "text/plain": [
              "<Figure size 432x288 with 1 Axes>"
            ]
          },
          "metadata": {
            "needs_background": "light"
          }
        },
        {
          "output_type": "stream",
          "name": "stdout",
          "text": [
            "Predicted:  0\n",
            "Ground truth:  0\n"
          ]
        }
      ]
    }
  ]
}