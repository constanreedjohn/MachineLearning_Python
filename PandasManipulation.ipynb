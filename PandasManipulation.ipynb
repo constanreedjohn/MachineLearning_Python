{
  "nbformat": 4,
  "nbformat_minor": 0,
  "metadata": {
    "colab": {
      "name": "19521587_Trần Tiến Hưng_BTTH1",
      "provenance": [],
      "collapsed_sections": []
    },
    "kernelspec": {
      "name": "python3",
      "display_name": "Python 3"
    },
    "language_info": {
      "name": "python"
    }
  },
  "cells": [
    {
      "cell_type": "code",
      "metadata": {
        "colab": {
          "base_uri": "https://localhost:8080/"
        },
        "id": "tUa6wI8JW0MA",
        "outputId": "b351e633-633c-4e25-b4b5-33a2fd61bcbd"
      },
      "source": [
        "!pip install geopandas"
      ],
      "execution_count": null,
      "outputs": [
        {
          "output_type": "stream",
          "name": "stdout",
          "text": [
            "Collecting geopandas\n",
            "  Downloading geopandas-0.9.0-py2.py3-none-any.whl (994 kB)\n",
            "\u001b[K     |████████████████████████████████| 994 kB 5.1 MB/s \n",
            "\u001b[?25hCollecting fiona>=1.8\n",
            "  Downloading Fiona-1.8.20-cp37-cp37m-manylinux1_x86_64.whl (15.4 MB)\n",
            "\u001b[K     |████████████████████████████████| 15.4 MB 37 kB/s \n",
            "\u001b[?25hRequirement already satisfied: pandas>=0.24.0 in /usr/local/lib/python3.7/dist-packages (from geopandas) (1.1.5)\n",
            "Collecting pyproj>=2.2.0\n",
            "  Downloading pyproj-3.2.1-cp37-cp37m-manylinux2010_x86_64.whl (6.3 MB)\n",
            "\u001b[K     |████████████████████████████████| 6.3 MB 40.4 MB/s \n",
            "\u001b[?25hRequirement already satisfied: shapely>=1.6 in /usr/local/lib/python3.7/dist-packages (from geopandas) (1.7.1)\n",
            "Requirement already satisfied: setuptools in /usr/local/lib/python3.7/dist-packages (from fiona>=1.8->geopandas) (57.4.0)\n",
            "Collecting cligj>=0.5\n",
            "  Downloading cligj-0.7.2-py3-none-any.whl (7.1 kB)\n",
            "Collecting munch\n",
            "  Downloading munch-2.5.0-py2.py3-none-any.whl (10 kB)\n",
            "Requirement already satisfied: six>=1.7 in /usr/local/lib/python3.7/dist-packages (from fiona>=1.8->geopandas) (1.15.0)\n",
            "Requirement already satisfied: click>=4.0 in /usr/local/lib/python3.7/dist-packages (from fiona>=1.8->geopandas) (7.1.2)\n",
            "Requirement already satisfied: attrs>=17 in /usr/local/lib/python3.7/dist-packages (from fiona>=1.8->geopandas) (21.2.0)\n",
            "Collecting click-plugins>=1.0\n",
            "  Downloading click_plugins-1.1.1-py2.py3-none-any.whl (7.5 kB)\n",
            "Requirement already satisfied: certifi in /usr/local/lib/python3.7/dist-packages (from fiona>=1.8->geopandas) (2021.5.30)\n",
            "Requirement already satisfied: numpy>=1.15.4 in /usr/local/lib/python3.7/dist-packages (from pandas>=0.24.0->geopandas) (1.19.5)\n",
            "Requirement already satisfied: pytz>=2017.2 in /usr/local/lib/python3.7/dist-packages (from pandas>=0.24.0->geopandas) (2018.9)\n",
            "Requirement already satisfied: python-dateutil>=2.7.3 in /usr/local/lib/python3.7/dist-packages (from pandas>=0.24.0->geopandas) (2.8.2)\n",
            "Installing collected packages: munch, cligj, click-plugins, pyproj, fiona, geopandas\n",
            "Successfully installed click-plugins-1.1.1 cligj-0.7.2 fiona-1.8.20 geopandas-0.9.0 munch-2.5.0 pyproj-3.2.1\n"
          ]
        }
      ]
    },
    {
      "cell_type": "code",
      "metadata": {
        "colab": {
          "base_uri": "https://localhost:8080/"
        },
        "id": "ZAsSw2rUl_TG",
        "outputId": "6b54bfb9-dbba-4f34-c3fd-18a921496ea8"
      },
      "source": [
        "!pip install folium"
      ],
      "execution_count": null,
      "outputs": [
        {
          "output_type": "stream",
          "name": "stdout",
          "text": [
            "Requirement already satisfied: folium in /usr/local/lib/python3.7/dist-packages (0.8.3)\n",
            "Requirement already satisfied: numpy in /usr/local/lib/python3.7/dist-packages (from folium) (1.19.5)\n",
            "Requirement already satisfied: branca>=0.3.0 in /usr/local/lib/python3.7/dist-packages (from folium) (0.4.2)\n",
            "Requirement already satisfied: jinja2 in /usr/local/lib/python3.7/dist-packages (from folium) (2.11.3)\n",
            "Requirement already satisfied: six in /usr/local/lib/python3.7/dist-packages (from folium) (1.15.0)\n",
            "Requirement already satisfied: requests in /usr/local/lib/python3.7/dist-packages (from folium) (2.23.0)\n",
            "Requirement already satisfied: MarkupSafe>=0.23 in /usr/local/lib/python3.7/dist-packages (from jinja2->folium) (2.0.1)\n",
            "Requirement already satisfied: idna<3,>=2.5 in /usr/local/lib/python3.7/dist-packages (from requests->folium) (2.10)\n",
            "Requirement already satisfied: certifi>=2017.4.17 in /usr/local/lib/python3.7/dist-packages (from requests->folium) (2021.5.30)\n",
            "Requirement already satisfied: chardet<4,>=3.0.2 in /usr/local/lib/python3.7/dist-packages (from requests->folium) (3.0.4)\n",
            "Requirement already satisfied: urllib3!=1.25.0,!=1.25.1,<1.26,>=1.21.1 in /usr/local/lib/python3.7/dist-packages (from requests->folium) (1.24.3)\n"
          ]
        }
      ]
    },
    {
      "cell_type": "code",
      "metadata": {
        "id": "x7A6GgA7XtfY"
      },
      "source": [
        "import numpy as np\n",
        "import pandas as pd\n",
        "import geopandas as gpd\n",
        "import folium"
      ],
      "execution_count": null,
      "outputs": []
    },
    {
      "cell_type": "code",
      "metadata": {
        "colab": {
          "base_uri": "https://localhost:8080/"
        },
        "id": "ZIyWhEagXHgw",
        "outputId": "c7b7686d-5474-40dd-bd05-9838e99a3a58"
      },
      "source": [
        "!git clone https://github.com/CityScope/CSL_HCMC/"
      ],
      "execution_count": null,
      "outputs": [
        {
          "output_type": "stream",
          "name": "stdout",
          "text": [
            "Cloning into 'CSL_HCMC'...\n",
            "remote: Enumerating objects: 1930, done.\u001b[K\n",
            "remote: Counting objects: 100% (590/590), done.\u001b[K\n",
            "remote: Compressing objects: 100% (315/315), done.\u001b[K\n",
            "remote: Total 1930 (delta 308), reused 500 (delta 269), pack-reused 1340\u001b[K\n",
            "Receiving objects: 100% (1930/1930), 176.98 MiB | 23.95 MiB/s, done.\n",
            "Resolving deltas: 100% (985/985), done.\n",
            "Checking out files: 100% (542/542), done.\n"
          ]
        }
      ]
    },
    {
      "cell_type": "code",
      "metadata": {
        "id": "q6VJcnQKXN1m"
      },
      "source": [
        "data = gpd.read_file('/content/CSL_HCMC/Data/GIS/Population/population_HCMC/population_shapefile/Population_Ward_Level.shp')"
      ],
      "execution_count": null,
      "outputs": []
    },
    {
      "cell_type": "code",
      "metadata": {
        "colab": {
          "base_uri": "https://localhost:8080/"
        },
        "id": "zWHoyiciX8sf",
        "outputId": "f329c0e8-c537-4eae-8bde-da83de866192"
      },
      "source": [
        "data.info()"
      ],
      "execution_count": null,
      "outputs": [
        {
          "output_type": "stream",
          "name": "stdout",
          "text": [
            "<class 'geopandas.geodataframe.GeoDataFrame'>\n",
            "RangeIndex: 322 entries, 0 to 321\n",
            "Data columns (total 12 columns):\n",
            " #   Column      Non-Null Count  Dtype   \n",
            "---  ------      --------------  -----   \n",
            " 0   Com_Name    322 non-null    object  \n",
            " 1   Dist_Name   322 non-null    object  \n",
            " 2   Com_ID      322 non-null    object  \n",
            " 3   Dist_ID     322 non-null    object  \n",
            " 4   Level       322 non-null    object  \n",
            " 5   Pop_2009    322 non-null    float64 \n",
            " 6   Pop_2019    322 non-null    float64 \n",
            " 7   Den_2009    322 non-null    float64 \n",
            " 8   Den_2019    322 non-null    float64 \n",
            " 9   Shape_Leng  322 non-null    float64 \n",
            " 10  Shape_Area  322 non-null    float64 \n",
            " 11  geometry    322 non-null    geometry\n",
            "dtypes: float64(6), geometry(1), object(5)\n",
            "memory usage: 30.3+ KB\n"
          ]
        }
      ]
    },
    {
      "cell_type": "code",
      "metadata": {
        "colab": {
          "base_uri": "https://localhost:8080/",
          "height": 204
        },
        "id": "esTE5ISBX-h9",
        "outputId": "4eb10cc4-e566-4a70-c194-f3c014b9ba33"
      },
      "source": [
        "data.head()"
      ],
      "execution_count": null,
      "outputs": [
        {
          "output_type": "execute_result",
          "data": {
            "text/html": [
              "<div>\n",
              "<style scoped>\n",
              "    .dataframe tbody tr th:only-of-type {\n",
              "        vertical-align: middle;\n",
              "    }\n",
              "\n",
              "    .dataframe tbody tr th {\n",
              "        vertical-align: top;\n",
              "    }\n",
              "\n",
              "    .dataframe thead th {\n",
              "        text-align: right;\n",
              "    }\n",
              "</style>\n",
              "<table border=\"1\" class=\"dataframe\">\n",
              "  <thead>\n",
              "    <tr style=\"text-align: right;\">\n",
              "      <th></th>\n",
              "      <th>Com_Name</th>\n",
              "      <th>Dist_Name</th>\n",
              "      <th>Com_ID</th>\n",
              "      <th>Dist_ID</th>\n",
              "      <th>Level</th>\n",
              "      <th>Pop_2009</th>\n",
              "      <th>Pop_2019</th>\n",
              "      <th>Den_2009</th>\n",
              "      <th>Den_2019</th>\n",
              "      <th>Shape_Leng</th>\n",
              "      <th>Shape_Area</th>\n",
              "      <th>geometry</th>\n",
              "    </tr>\n",
              "  </thead>\n",
              "  <tbody>\n",
              "    <tr>\n",
              "      <th>0</th>\n",
              "      <td>Tan Dinh</td>\n",
              "      <td>District 1</td>\n",
              "      <td>26734</td>\n",
              "      <td>760</td>\n",
              "      <td>Ward</td>\n",
              "      <td>26571.0</td>\n",
              "      <td>23258.0</td>\n",
              "      <td>41942.70</td>\n",
              "      <td>36713.10</td>\n",
              "      <td>3679.098196</td>\n",
              "      <td>6.334981e+05</td>\n",
              "      <td>POLYGON ((684350.511 1193546.266, 684363.810 1...</td>\n",
              "    </tr>\n",
              "    <tr>\n",
              "      <th>1</th>\n",
              "      <td>Ben Nghe</td>\n",
              "      <td>District 1</td>\n",
              "      <td>26740</td>\n",
              "      <td>760</td>\n",
              "      <td>Ward</td>\n",
              "      <td>13580.0</td>\n",
              "      <td>10633.0</td>\n",
              "      <td>5480.09</td>\n",
              "      <td>4290.86</td>\n",
              "      <td>6978.149149</td>\n",
              "      <td>2.478041e+06</td>\n",
              "      <td>POLYGON ((686564.657 1193462.473, 686588.924 1...</td>\n",
              "    </tr>\n",
              "    <tr>\n",
              "      <th>2</th>\n",
              "      <td>Cau Ong Lanh</td>\n",
              "      <td>District 1</td>\n",
              "      <td>26752</td>\n",
              "      <td>760</td>\n",
              "      <td>Ward</td>\n",
              "      <td>12917.0</td>\n",
              "      <td>10737.0</td>\n",
              "      <td>56878.90</td>\n",
              "      <td>47279.50</td>\n",
              "      <td>2260.705105</td>\n",
              "      <td>2.270938e+05</td>\n",
              "      <td>POLYGON ((685922.373 1190479.807, 685914.160 1...</td>\n",
              "    </tr>\n",
              "    <tr>\n",
              "      <th>3</th>\n",
              "      <td>Nguyen Thai Binh</td>\n",
              "      <td>District 1</td>\n",
              "      <td>26746</td>\n",
              "      <td>760</td>\n",
              "      <td>Ward</td>\n",
              "      <td>13197.0</td>\n",
              "      <td>9716.0</td>\n",
              "      <td>26798.80</td>\n",
              "      <td>19730.00</td>\n",
              "      <td>3320.174618</td>\n",
              "      <td>4.924426e+05</td>\n",
              "      <td>POLYGON ((685966.333 1190513.667, 685944.353 1...</td>\n",
              "    </tr>\n",
              "    <tr>\n",
              "      <th>4</th>\n",
              "      <td>Co Giang</td>\n",
              "      <td>District 1</td>\n",
              "      <td>26755</td>\n",
              "      <td>760</td>\n",
              "      <td>Ward</td>\n",
              "      <td>18967.0</td>\n",
              "      <td>11517.0</td>\n",
              "      <td>53327.60</td>\n",
              "      <td>32381.20</td>\n",
              "      <td>2525.453814</td>\n",
              "      <td>3.556650e+05</td>\n",
              "      <td>POLYGON ((685514.573 1190211.431, 685547.521 1...</td>\n",
              "    </tr>\n",
              "  </tbody>\n",
              "</table>\n",
              "</div>"
            ],
            "text/plain": [
              "           Com_Name  ...                                           geometry\n",
              "0          Tan Dinh  ...  POLYGON ((684350.511 1193546.266, 684363.810 1...\n",
              "1          Ben Nghe  ...  POLYGON ((686564.657 1193462.473, 686588.924 1...\n",
              "2      Cau Ong Lanh  ...  POLYGON ((685922.373 1190479.807, 685914.160 1...\n",
              "3  Nguyen Thai Binh  ...  POLYGON ((685966.333 1190513.667, 685944.353 1...\n",
              "4          Co Giang  ...  POLYGON ((685514.573 1190211.431, 685547.521 1...\n",
              "\n",
              "[5 rows x 12 columns]"
            ]
          },
          "metadata": {},
          "execution_count": 7
        }
      ]
    },
    {
      "cell_type": "code",
      "metadata": {
        "colab": {
          "base_uri": "https://localhost:8080/"
        },
        "id": "B-QAR01mYIz0",
        "outputId": "03d08588-1903-4eb5-c95b-7ea5d7617415"
      },
      "source": [
        "pop_max = data[data.Pop_2019 == data.Pop_2019.max()]\n",
        "print(\"Phường có dân số cao nhất 2019: \\n\", pop_max)"
      ],
      "execution_count": null,
      "outputs": [
        {
          "output_type": "stream",
          "name": "stdout",
          "text": [
            "Phường có dân số cao nhất 2019: \n",
            "        Com_Name   Dist_Name Com_ID  ...     Ratio   Approx  Pop_ratio\n",
            "168  Vinh Loc A  Binh Chanh  27601  ...  2.496877  74763.0    0.00632\n",
            "\n",
            "[1 rows x 15 columns]\n"
          ]
        }
      ]
    },
    {
      "cell_type": "code",
      "metadata": {
        "colab": {
          "base_uri": "https://localhost:8080/"
        },
        "id": "KWelSpPCb9L4",
        "outputId": "5d7e2161-fbe5-4ee3-8162-61c4c661180b"
      },
      "source": [
        "pop_min = data[data.Pop_2019 == data.Pop_2019.min()]\n",
        "print(\"Phường có dân số cao nhất 2019: \\n\", pop_min)"
      ],
      "execution_count": null,
      "outputs": [
        {
          "output_type": "stream",
          "name": "stdout",
          "text": [
            "Phường có dân số cao nhất 2019: \n",
            "      Com_Name   Dist_Name  ...      Ratio   Approx\n",
            "218  An Khanh  District 2  ...  70.219731 -15436.0\n",
            "\n",
            "[1 rows x 14 columns]\n"
          ]
        }
      ]
    },
    {
      "cell_type": "code",
      "metadata": {
        "colab": {
          "base_uri": "https://localhost:8080/"
        },
        "id": "K8PH0Ge2cSxP",
        "outputId": "2ddd723c-af76-4a18-f402-f906ba2c9c44"
      },
      "source": [
        "area_max = data[data.Shape_Area == data.Shape_Area.max()]\n",
        "print(\"Phường có diện tích cao nhất: \\n\", area_max)"
      ],
      "execution_count": null,
      "outputs": [
        {
          "output_type": "stream",
          "name": "stdout",
          "text": [
            "Phường có diện tích cao nhất: \n",
            "     Com_Name Dist_Name Com_ID  ...     Ratio Approx  Pop_ratio\n",
            "204  Ly Nhon   Can Gio  27682  ...  0.924508 -430.0   0.000033\n",
            "\n",
            "[1 rows x 15 columns]\n"
          ]
        }
      ]
    },
    {
      "cell_type": "code",
      "metadata": {
        "colab": {
          "base_uri": "https://localhost:8080/"
        },
        "id": "g6fQNAnXcd4f",
        "outputId": "afdd5720-b1e9-479e-e4cc-b5dd01092d62"
      },
      "source": [
        "area_min = data[data.Shape_Area == data.Shape_Area.min()]\n",
        "print(\"Phường có diện tích thấp nhất: \\n\", area_min)"
      ],
      "execution_count": null,
      "outputs": [
        {
          "output_type": "stream",
          "name": "stdout",
          "text": [
            "Phường có diện tích thấp nhất: \n",
            "    Com_Name    Dist_Name  ...     Ratio Approx\n",
            "71   Ward 3  District 10  ...  1.070945 -514.0\n",
            "\n",
            "[1 rows x 14 columns]\n"
          ]
        }
      ]
    },
    {
      "cell_type": "code",
      "metadata": {
        "colab": {
          "base_uri": "https://localhost:8080/"
        },
        "id": "dtt1eqvNc0Nm",
        "outputId": "6a777694-da49-4dc4-f1f2-c903e3f85816"
      },
      "source": [
        "data['Ratio'] = data['Pop_2019'] / data['Pop_2009']\n",
        "print(\"Phường có tỉ lệ gia tăng dân số cao nhất: \\n\", data[data.Ratio == data.Ratio.max()])\n",
        "print(\"Phường có tỉ lệ gia tăng dân số thấp nhất: \\n\", data[data.Ratio == data.Ratio.min()])"
      ],
      "execution_count": null,
      "outputs": [
        {
          "output_type": "stream",
          "name": "stdout",
          "text": [
            "Phường có tỉ lệ gia tăng dân số cao nhất: \n",
            "     Com_Name   Dist_Name Com_ID  ...     Ratio   Approx   Pop_ratio\n",
            "211  Phu Huu  District 9  26866  ...  3.057949  14951.0  531.916466\n",
            "\n",
            "[1 rows x 15 columns]\n",
            "Phường có tỉ lệ gia tăng dân số thấp nhất: \n",
            "      Com_Name   Dist_Name Com_ID  ...     Ratio   Approx    Pop_ratio\n",
            "218  An Khanh  District 2  27106  ...  0.014241 -15436.0  7951.504894\n",
            "\n",
            "[1 rows x 15 columns]\n"
          ]
        }
      ]
    },
    {
      "cell_type": "code",
      "metadata": {
        "colab": {
          "base_uri": "https://localhost:8080/"
        },
        "id": "tpdti2WneB0s",
        "outputId": "46520973-0654-4fa6-fba8-b064d06d48da"
      },
      "source": [
        "data['Approx'] = data['Pop_2019'] - data['Pop_2009']\n",
        "print(\"Phường có biến động cao nhất: \\n\", data[data.Approx == data.Approx.max()])\n",
        "print(\"Phường có biến động thấp nhất: \\n\", data[data.Approx == data.Approx.min()])"
      ],
      "execution_count": null,
      "outputs": [
        {
          "output_type": "stream",
          "name": "stdout",
          "text": [
            "Phường có biến động cao nhất: \n",
            "        Com_Name   Dist_Name  ...   Ratio   Approx\n",
            "168  Vinh Loc A  Binh Chanh  ...  0.4005  74763.0\n",
            "\n",
            "[1 rows x 14 columns]\n",
            "Phường có biến động thấp nhất: \n",
            "      Com_Name   Dist_Name  ...      Ratio   Approx\n",
            "218  An Khanh  District 2  ...  70.219731 -15436.0\n",
            "\n",
            "[1 rows x 14 columns]\n"
          ]
        }
      ]
    },
    {
      "cell_type": "code",
      "metadata": {
        "colab": {
          "base_uri": "https://localhost:8080/"
        },
        "id": "jnoNei5WetPG",
        "outputId": "22fe4ec2-e89f-42d9-a2ee-cf72990911ba"
      },
      "source": [
        "data['Pop_ratio'] = data['Pop_2019'] / data['Shape_Area'] \n",
        "print(\"Phường có mật độ dân số cao nhất: \\n\", data[data.Pop_ratio == data.Pop_ratio.max()])\n",
        "print(\"Phường có mật độ dân số thấp nhất: \\n\", data[data.Pop_ratio == data.Pop_ratio.min()])"
      ],
      "execution_count": null,
      "outputs": [
        {
          "output_type": "stream",
          "name": "stdout",
          "text": [
            "Phường có mật độ dân số cao nhất: \n",
            "    Com_Name   Dist_Name Com_ID  ...     Ratio Approx  Pop_ratio\n",
            "16   Ward 8  District 4  27268  ...  0.944516 -900.0   0.096193\n",
            "\n",
            "[1 rows x 15 columns]\n",
            "Phường có mật độ dân số thấp nhất: \n",
            "     Com_Name Dist_Name Com_ID  ...     Ratio Approx  Pop_ratio\n",
            "204  Ly Nhon   Can Gio  27682  ...  0.924508 -430.0   0.000033\n",
            "\n",
            "[1 rows x 15 columns]\n"
          ]
        }
      ]
    }
  ]
}